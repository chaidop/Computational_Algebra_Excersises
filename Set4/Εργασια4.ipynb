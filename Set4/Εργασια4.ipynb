{
 "cells": [
  {
   "cell_type": "markdown",
   "metadata": {},
   "source": [
    " #                    Poly_decomp_2 implementation\n"
   ]
  },
  {
   "cell_type": "markdown",
   "metadata": {},
   "source": [
    "To program Poly_decomp_2, we first need to program three other methods: the Polynomial_divisors(u, x),the Polynomial_expansion(u,w, x, t) and the Free_of(u, x).\n",
    "First, we program Polynomial_divisors(u, x). This method gives a list of all the possible combinations of other polynomials  each of which divides the initial polynomial u, multiplied with each other. It utilises the factor_list(u) function to get all the nonreducable polynomials that divide the polynomial u and the method itermonomials to get all combinations.\n",
    "The code for Polynomial_divisors(u,x) can be seen below:\n"
   ]
  },
  {
   "cell_type": "code",
   "execution_count": 4,
   "metadata": {},
   "outputs": [],
   "source": [
    "from sympy import *\n",
    "from sympy.polys.monomials import *\n",
    "from numpy import *\n",
    "import itertools\n"
   ]
  },
  {
   "cell_type": "markdown",
   "metadata": {},
   "source": [
    "We import the necessary libraries and we write the method:\n"
   ]
  },
  {
   "cell_type": "code",
   "execution_count": 7,
   "metadata": {},
   "outputs": [],
   "source": [
    "def Polynomial_divisors(u, x):\n",
    "    #gets the constant of the function u0\n",
    "    u0 = Poly(u,x).nth(0)\n",
    "    #finds all the nonreducable factors of u-u0\n",
    "    l = factor_list(u-u0)\n",
    "    factors = []\n",
    "    helper = l[1]\n",
    "    for i in range(len(helper)):\n",
    "        factors.append(helper[i][0])\n",
    "    \n",
    "    M = list(itermonomials(factors, 8))\n",
    "    return M\n",
    "\n"
   ]
  },
  {
   "cell_type": "markdown",
   "metadata": {},
   "source": [
    "The second method, Polynomial_expansion(u,w,x,t). The polynomial expansion of u in terms of w involves the representation of u as a sum whose terms contain non-negative integer powers of w. The polynomial expansion is based on polynomial division. It returns the new expanded polynomial w. The code is:\n"
   ]
  },
  {
   "cell_type": "code",
   "execution_count": 8,
   "metadata": {},
   "outputs": [],
   "source": [
    "def Polynomial_expansion(u, v, x, t):\n",
    "    c =  Poly(u,x).nth(0)\n",
    "    if degree(u) == -inf and c==0:\n",
    "        return 0\n",
    "    else:\n",
    "        fr = div(u,v)\n",
    "        #the quotient\n",
    "        d = fr[0]\n",
    "        #the remainder\n",
    "        r = fr[1]\n",
    "        return (t*Polynomial_expansion(d, v, x, t)+r)\n",
    "    "
   ]
  },
  {
   "cell_type": "markdown",
   "metadata": {},
   "source": [
    "The last method, Free_of(u), checks whether the given polynomial u has more than one independent variables. If it does, it returns true, otherwise false. The code can be seen below:\n"
   ]
  },
  {
   "cell_type": "code",
   "execution_count": 9,
   "metadata": {},
   "outputs": [],
   "source": [
    "def Free_of(u):\n",
    "    return true if len(Poly(u).free_symbols)>0 else false\n"
   ]
  },
  {
   "cell_type": "markdown",
   "metadata": {},
   "source": [
    "Now we can write the final code for the method Poly_decomp_2, which is:\n"
   ]
  },
  {
   "cell_type": "code",
   "execution_count": 10,
   "metadata": {},
   "outputs": [
    {
     "name": "stdout",
     "output_type": "stream",
     "text": [
      "f(x) =  x**8 + 4*x**7 + 10*x**6 + 16*x**5 + 29*x**4 + 36*x**3 + 40*x**2 + 24*x + 39 \n",
      "---------------------------------------\n",
      "v(x) =  x**4 + 4*x**3 + 16*x**2 + 24*x + 39\n",
      "w(x) =  x**2 + x\n",
      "\n",
      "\n",
      "Decomposition v(w(x)) gives: \n",
      " x**8 + 4*x**7 + 10*x**6 + 16*x**5 + 29*x**4 + 36*x**3 + 40*x**2 + 24*x + 39\n"
     ]
    }
   ],
   "source": [
    "x = S('x')\n",
    "t = S('t')\n",
    "f = x**8 + 4*x**7 +10*x**6 + 16*x**5 + 29*x**4+ 36*x**3  + 40*x**2 + 24*x + 39\n",
    "S = Polynomial_divisors(f, x)\n",
    "i = 1\n",
    "u0 = Poly(f,x).nth(0)\n",
    "for i in range(len(S)):\n",
    "    w = S[i]\n",
    "    if degree(w)>1 and degree(f)>degree(w) and degree(f)%degree(w)==0:\n",
    "        if rem(f-u0,w)==0:\n",
    "            v = Polynomial_expansion(f, w, x, t)\n",
    "            if(Free_of(v)):\n",
    "               break\n",
    "            \n",
    "print(\"f(x) = \",f,\"\\n---------------------------------------\")\n",
    "v=expand(v.subs({t:x}))\n",
    "print(\"v(x) = \",v)\n",
    "w=expand(w)\n",
    "print(\"w(x) = \",w)\n",
    "print(\"\\n\\nDecomposition v(w(x)) gives: \\n\",expand(v.subs({x:w})))\n"
   ]
  },
  {
   "cell_type": "markdown",
   "metadata": {},
   "source": [
    "The Poly_decomp_2 calculates the decomposotion of a polynomial f(x) in terms of two other polynomials v(x) and w(x), so that f(x)=v(w(x)) holds. It follows the algorithm mentioned in Chapter 5 from Cohens book \"Computer Algebra and Symbolic Computation: Mathematical Methods\". \n",
    "First, for a polynomial f(x) it calls the Polynomial_divisors(u,x,0), where u(x) = f(x) - u0 and u0 is the constant coefficient of f(x). This gives the list S of all combinations of the non-reducable polynomials of u(x).\n",
    "Then, we iterate for every polynomial in S, and check the neccessary conditions mentioned in Theorem 5.9 in Cohen's book. If they all hold true, then it calls Polynomial_expansion(u,w,x,t) to calculate v(t).\n",
    "Finally, it checks one more neccessary condition, which is for the calculated v(t) to only have one independent variable. We do this by using Free_of(v). If it is true, the method completes.\n"
   ]
  }
 ],
 "metadata": {
  "kernelspec": {
   "display_name": "Python 3",
   "language": "python",
   "name": "python3"
  },
  "language_info": {
   "codemirror_mode": {
    "name": "ipython",
    "version": 3
   },
   "file_extension": ".py",
   "mimetype": "text/x-python",
   "name": "python",
   "nbconvert_exporter": "python",
   "pygments_lexer": "ipython3",
   "version": "3.8.3"
  }
 },
 "nbformat": 4,
 "nbformat_minor": 4
}
